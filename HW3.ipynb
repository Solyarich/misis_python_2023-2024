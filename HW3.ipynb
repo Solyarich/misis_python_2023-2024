{
 "cells": [
  {
   "cell_type": "markdown",
   "metadata": {},
   "source": [
    "# ДЗ3"
   ]
  },
  {
   "cell_type": "markdown",
   "metadata": {},
   "source": [
    "##### 1) Напишите функцию, извлекающую корень n-й степени из числа x. По умолчанию def будет извлекать квадратный корень:"
   ]
  },
  {
   "cell_type": "code",
   "execution_count": 4,
   "metadata": {},
   "outputs": [
    {
     "name": "stdout",
     "output_type": "stream",
     "text": [
      "Answer: 2.080083823051904\n"
     ]
    }
   ],
   "source": [
    "def radical(x, degree=2):\n",
    "    return x ** (1 / degree)\n",
    "\n",
    "x = float(input('Enter your number:'))\n",
    "degree = float(input('Enter your degree:'))\n",
    "print (f'Answer: {radical(x, degree)}')"
   ]
  },
  {
   "cell_type": "markdown",
   "metadata": {},
   "source": [
    "##### 2) Перепишите ваш код для проверки расширения из прошлого ДЗ в функцию которая принимает список расширений и имя файла"
   ]
  },
  {
   "cell_type": "code",
   "execution_count": 6,
   "metadata": {},
   "outputs": [
    {
     "name": "stdout",
     "output_type": "stream",
     "text": [
      "Allowed\n"
     ]
    }
   ],
   "source": [
    "def check(name, extensions):\n",
    "    strs = name.split(sep='.')\n",
    "    if strs[len(strs) - 1] in extensions:\n",
    "        print ('Allowed')\n",
    "    else:\n",
    "        print ('Not allowed')\n",
    "\n",
    "file = 'Моя диссертац.gif'\n",
    "extensions = ['png', 'jpg', 'jpeg', 'gif', 'svg']\n",
    "check(file, extensions)"
   ]
  },
  {
   "cell_type": "markdown",
   "metadata": {},
   "source": [
    "##### 3) Слейте воедино три словаря"
   ]
  },
  {
   "cell_type": "code",
   "execution_count": 7,
   "metadata": {},
   "outputs": [
    {
     "name": "stdout",
     "output_type": "stream",
     "text": [
      "{1: 10, 2: 20, 3: 30, 4: 40, 5: 50, 6: 60}\n"
     ]
    }
   ],
   "source": [
    "dict_a = {1:10, 2:20}\n",
    "dict_b = {3:30, 4:40}\n",
    "dict_c = {5:50, 6:60}\n",
    "\n",
    "dict_all = {}\n",
    "dict_all.update(dict_a)\n",
    "dict_all.update(dict_b)\n",
    "dict_all.update(dict_c)\n",
    "print(dict_all)"
   ]
  },
  {
   "cell_type": "markdown",
   "metadata": {},
   "source": [
    "##### 4) Напишите функцию которая будет складывать цифры внутри числа"
   ]
  },
  {
   "cell_type": "code",
   "execution_count": 13,
   "metadata": {},
   "outputs": [
    {
     "name": "stdout",
     "output_type": "stream",
     "text": [
      "Sum: 100\n"
     ]
    }
   ],
   "source": [
    "def sum_digits(number):\n",
    "    sum = 0\n",
    "    for s in number:\n",
    "        sum += int(number[int(s)])\n",
    "    return sum\n",
    "\n",
    "number = str(input('Enter number:'))\n",
    "sum = sum_digits(number)\n",
    "print(f'Sum: {sum}')"
   ]
  },
  {
   "cell_type": "markdown",
   "metadata": {},
   "source": [
    "##### 5) Нужно проверить, все ли числа в последовательности уникальны."
   ]
  },
  {
   "cell_type": "code",
   "execution_count": 17,
   "metadata": {},
   "outputs": [
    {
     "name": "stdout",
     "output_type": "stream",
     "text": [
      "Not all unique\n"
     ]
    }
   ],
   "source": [
    "numbers = [1, 4, 5, 4]\n",
    "numbers_set = set(numbers)\n",
    "if len(numbers) == len(numbers_set):\n",
    "    print('All unique')\n",
    "else:\n",
    "    print('Not all unique')"
   ]
  },
  {
   "cell_type": "markdown",
   "metadata": {},
   "source": [
    "##### 6.1) Создать функцию, которая просто печатает все элементы заданного ей списка:\n",
    "\n",
    "        НОМЕР J --> ЗНАЧЕНИЕ\n",
    "        НОМЕР K --> ЗНАЧЕНИЕ\n",
    "    J, K — порядковые номера в списке"
   ]
  },
  {
   "cell_type": "code",
   "execution_count": 10,
   "metadata": {},
   "outputs": [
    {
     "name": "stdout",
     "output_type": "stream",
     "text": [
      "НОМЕР 0 --> я\n",
      "НОМЕР 1 --> не\n",
      "НОМЕР 2 --> в\n",
      "НОМЕР 3 --> отпуск\n",
      "НОМЕР 4 --> е\n"
     ]
    }
   ],
   "source": [
    "def print_list(my_list):\n",
    "    count = 0\n",
    "    for s in my_list:\n",
    "        print(f'НОМЕР {count} --> {s}')\n",
    "        count += 1\n",
    "    pass\n",
    "\n",
    "print_list([\"я\", \"не\", \"в\", \"отпуск\", \"е\"])"
   ]
  },
  {
   "cell_type": "markdown",
   "metadata": {},
   "source": [
    "##### 6.2) Создать функцию, которая печатает каждый элемент словарика\n",
    "\n",
    "        КЛЮЧ <<J>> --> ЗНАЧЕНИЕ\n",
    "        КЛЮЧ <<K>> --> ЗНАЧЕНИЕ\n",
    "    J, K — ключи словарика"
   ]
  },
  {
   "cell_type": "code",
   "execution_count": 25,
   "metadata": {},
   "outputs": [
    {
     "name": "stdout",
     "output_type": "stream",
     "text": [
      "КЛЮЧ <<key1>> --> 2\n",
      "КЛЮЧ <<key3>> --> False\n",
      "КЛЮЧ <<Приветствие>> --> Hello\n"
     ]
    }
   ],
   "source": [
    "def print_dict(my_dict):\n",
    "    for key, val in my_dict.items():\n",
    "        print(f'КЛЮЧ <<{key}>> --> {val}')\n",
    "    pass\n",
    "\n",
    "print_dict({\"key1\": 2, \"key3\": False, \"Приветствие\": \"Hello\"})"
   ]
  },
  {
   "cell_type": "markdown",
   "metadata": {},
   "source": [
    "##### 6.3) Сделать функцию, которая использует две уже написанные функции следующим образом:\n",
    "\n",
    "    если ЗНАЧЕНИЕ это LIST --> вызывается print_list\n",
    "    если ЗНАЧЕНИЕ это DICT --> вызывается print_dict\n",
    "    во всех других случаях просто выводится ЗНАЧЕНИЕ"
   ]
  },
  {
   "cell_type": "code",
   "execution_count": 24,
   "metadata": {},
   "outputs": [
    {
     "name": "stdout",
     "output_type": "stream",
     "text": [
      "ОБЪЕКТ 0 - Значение\n",
      "Значение --> 1\n",
      "ОБЪЕКТ 1 - LIST\n",
      "НОМЕР 0 --> 1\n",
      "НОМЕР 1 --> 2\n",
      "НОМЕР 2 --> 3\n",
      "НОМЕР 3 --> 4\n",
      "ОБЪЕКТ 2 - Значение\n",
      "Значение --> Hello\n",
      "ОБЪЕКТ 3 - DICT\n",
      "КЛЮЧ <<ciao>> --> Mondo\n",
      "КЛЮЧ <<Привет>> --> О дивный мир\n"
     ]
    }
   ],
   "source": [
    "def print_overlord(mydict):\n",
    "    count = 0\n",
    "    for key, val in mydict.items():\n",
    "        if isinstance(val, dict):\n",
    "            print(f'ОБЪЕКТ {count} - DICT')\n",
    "            print_dict(val)\n",
    "        elif isinstance(val, list):\n",
    "            print(f'ОБЪЕКТ {count} - LIST')\n",
    "            print_list(val)\n",
    "        else:\n",
    "            print(f'ОБЪЕКТ {count} - Значение')\n",
    "            print(f'Значение --> {val}')\n",
    "        count += 1\n",
    "    pass\n",
    "\n",
    "print_overlord(dict(key1=1,\n",
    "            key2=[1, 2, 3, 4], \n",
    "            key3='Hello', \n",
    "            key4={\"ciao\":\"Mondo\", \"Привет\": \"О дивный мир\"}))"
   ]
  },
  {
   "cell_type": "markdown",
   "metadata": {},
   "source": [
    "##### 7) Придумать две темы из IT про которые вам было бы интересно послушать"
   ]
  },
  {
   "cell_type": "markdown",
   "metadata": {},
   "source": [
    "    1 - Интресные библиотеки python в области ML\n",
    "    2 - Послушать про фреймворки, например Django или Flask"
   ]
  },
  {
   "cell_type": "markdown",
   "metadata": {},
   "source": [
    "# Задачи со звёздочкой"
   ]
  },
  {
   "cell_type": "markdown",
   "metadata": {},
   "source": [
    "##### 1) Сделать функцию, которая на вход получает фразу и печатает все отдельные слова из этой фразы. Операция разбиения строки на составляющие называется токенизацией, это слово нам ещё пригодится в будущем."
   ]
  },
  {
   "cell_type": "code",
   "execution_count": 26,
   "metadata": {},
   "outputs": [
    {
     "name": "stdout",
     "output_type": "stream",
     "text": [
      "Тут\n",
      "фраза\n",
      "с\n",
      "пробелами\n",
      "и\n",
      "я\n",
      "хочу\n",
      "их\n",
      "распечатать\n",
      "по\n",
      "одному\n",
      "на\n",
      "строку\n",
      "и\n",
      "ещё\n",
      "посчитать\n",
      "слова\n",
      "Number of words: 17\n"
     ]
    }
   ],
   "source": [
    "def word_count(phrase):\n",
    "    words = phrase.split()\n",
    "    for word in words:\n",
    "        print(word)\n",
    "    print(f'Number of words: {len(words)}')\n",
    "    pass\n",
    "   \n",
    "word_count(\"Тут фраза с пробелами и я хочу их распечатать по одному на строку и ещё посчитать слова\")"
   ]
  },
  {
   "cell_type": "markdown",
   "metadata": {},
   "source": [
    "##### 2) Модифицировать функцию из предыдущего задания так, чтобы она считала \"вес\" каждого слова, выводя в процентное соотношение во фразе для каждого слова. Проценты печатать с точностью до 2 знаков после запятой."
   ]
  },
  {
   "cell_type": "code",
   "execution_count": 42,
   "metadata": {},
   "outputs": [
    {
     "name": "stdout",
     "output_type": "stream",
     "text": [
      "Word Тут; percentage = 15.79%\n",
      "Word фраза; percentage = 5.26%\n",
      "Word с; percentage = 5.26%\n",
      "Word пробелами; percentage = 5.26%\n",
      "Word и; percentage = 10.53%\n",
      "Word я; percentage = 5.26%\n",
      "Word хочу; percentage = 5.26%\n",
      "Word их; percentage = 5.26%\n",
      "Word распечатать; percentage = 5.26%\n",
      "Word по; percentage = 5.26%\n",
      "Word одному; percentage = 5.26%\n",
      "Word на; percentage = 5.26%\n",
      "Word строку; percentage = 5.26%\n",
      "Word ещё; percentage = 5.26%\n",
      "Word посчитать; percentage = 5.26%\n",
      "Word слова; percentage = 5.26%\n",
      "Number of words: 19\n"
     ]
    }
   ],
   "source": [
    "def word_count(phrase):\n",
    "    words = phrase.split()\n",
    "    words_dict = {}\n",
    "    for word in words:\n",
    "        if word in words_dict:\n",
    "            val = words_dict.get(word) + 1\n",
    "            words_dict.update({word:val})\n",
    "        else:\n",
    "            new_word = {word:1}\n",
    "            words_dict.update(new_word)\n",
    "    numb_words = len(words)\n",
    "    for key, val in words_dict.items():\n",
    "        print(f'Word {key}; percentage = {val / numb_words * 100:.2f}%')\n",
    "    print(f'Number of words: {numb_words}')\n",
    "    pass\n",
    "   \n",
    "word_count(\"Тут Тут фраза с пробелами и я хочу их распечатать по одному Тут на строку и ещё посчитать слова\")"
   ]
  }
 ],
 "metadata": {
  "kernelspec": {
   "display_name": "Python 3",
   "language": "python",
   "name": "python3"
  },
  "language_info": {
   "codemirror_mode": {
    "name": "ipython",
    "version": 3
   },
   "file_extension": ".py",
   "mimetype": "text/x-python",
   "name": "python",
   "nbconvert_exporter": "python",
   "pygments_lexer": "ipython3",
   "version": "3.11.2"
  }
 },
 "nbformat": 4,
 "nbformat_minor": 5
}
