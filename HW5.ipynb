{
 "cells": [
  {
   "cell_type": "markdown",
   "metadata": {},
   "source": [
    "# ДЗ5"
   ]
  },
  {
   "cell_type": "markdown",
   "metadata": {},
   "source": [
    "##### 1) Напишите программу с классом Student, в котором есть три атрибута: name, groupNumber и age. По умолчанию name = Ivan, age = 18, groupNumber = 10A. Необходимо создать пять методов: getName, getAge, getGroupNumber, setNameAge, setGroupNumber. Метод getName нужен для получения данных об имени конкретного студента, метод getAge нужен для получения данных о возрасте конкретного студента, vетод setGroupNumberнужен для получения данных о номере группы конкретного студента. Метод SetNameAge позволяет изменить данные атрибутов установленных по умолчанию, метод setGroupNumber позволяет изменить номер группы установленный по умолчанию. В программе необходимо создать пять экземпляров класса Student, установить им разные имена, возраст и номер группы.\n"
   ]
  },
  {
   "cell_type": "code",
   "execution_count": 6,
   "metadata": {},
   "outputs": [
    {
     "data": {
      "text/plain": [
       "10"
      ]
     },
     "execution_count": 6,
     "metadata": {},
     "output_type": "execute_result"
    }
   ],
   "source": [
    "class Student:\n",
    "    def __init__(self, name='Ivan', groupNumber='10A', age=18):\n",
    "        self.name = name\n",
    "        self.groupNumber = groupNumber\n",
    "        self.age = age\n",
    "    def getName(self):\n",
    "        return self.name\n",
    "    \n",
    "    def getAge(self):\n",
    "        return self.age\n",
    "    \n",
    "    def getGroupNumber(self):\n",
    "        return self.groupNumber\n",
    "    \n",
    "    def setNameAge(self, new_age):\n",
    "        self.age = new_age\n",
    "\n",
    "    def setGroupNumber(self, new_group_number):\n",
    "        self.groupNumber = new_group_number\n",
    "\n",
    "st_1 = Student('Nikita', 'MIST-23', 20)\n",
    "st_2 = Student('Aleks', 'BPM-23', 10)\n",
    "st_3 = Student('Peter', 'MIKS', 33)\n",
    "st_4 = Student('Sergey', 'Point8')\n",
    "st_5 = Student('Danil', 60)\n",
    "\n",
    "st_2.getAge()\n",
    "    "
   ]
  },
  {
   "cell_type": "markdown",
   "metadata": {},
   "source": [
    "##### 2) Напишите программу с классом Car. Создайте конструктор класса Car. Создайте атрибуты класса Car — color (цвет), type (тип), year (год). Напишите пять методов. Первый — запуск автомобиля, при его вызове выводится сообщение «Автомобиль заведен». Второй — отключение автомобиля — выводит сообщение «Автомобиль заглушен». Третий — присвоение автомобилю года выпуска. Четвертый метод — присвоение автомобилю типа. Пятый — присвоение автомобилю цвета.\n"
   ]
  },
  {
   "cell_type": "code",
   "execution_count": 10,
   "metadata": {},
   "outputs": [
    {
     "name": "stdout",
     "output_type": "stream",
     "text": [
      "Автомобиль заведен\n"
     ]
    }
   ],
   "source": [
    "class Car:\n",
    "    def __init__(self, color, type, year):\n",
    "        self.color = color\n",
    "        self.type = type\n",
    "        self.year = year\n",
    "    \n",
    "    def start_car(self):\n",
    "        print('Автомобиль заведен')\n",
    "\n",
    "    def stop_car(self):\n",
    "        print('Автомобиль заглушен')\n",
    "\n",
    "    def set_year(self, new_year):\n",
    "        self.year = new_year\n",
    "\n",
    "    def set_type(self, new_type):\n",
    "        self.type = new_type\n",
    "\n",
    "    def set_color(self, new_color):\n",
    "        self.color = new_color\n",
    "\n",
    "car = Car('Red', 'Light', 2022)\n",
    "car.start_car()"
   ]
  },
  {
   "cell_type": "markdown",
   "metadata": {},
   "source": [
    "##### 3) Допишите функцию Nutrion"
   ]
  },
  {
   "cell_type": "code",
   "execution_count": 2,
   "metadata": {},
   "outputs": [],
   "source": [
    "class NutritionInfo:\n",
    "    def __init__(self, proteins, carbs, fats):\n",
    "        self.proteins = proteins\n",
    "        self.carbs = carbs\n",
    "        self.fats = fats\n",
    "    \n",
    "    def __add__(self, other):\n",
    "        return NutritionInfo(self.proteins + other.proteins, self.carbs + other.carbs, self.fats + other.fats)\n",
    "    \n",
    "    def __mul__(self, other):\n",
    "        return NutritionInfo(self.proteins * other, self.carbs * other, self.fats * other)\n",
    "    \n",
    "    def __str__(self):\n",
    "        return f\"Nutrition p {self.proteins}, c {self.carbs}, f {self.fats}\"\n",
    "        \n",
    "    def energy(self):\n",
    "        return int(self.fats * 9 + (self.carbs + self.proteins) * 4.2)\n",
    "\n",
    "egg = NutritionInfo(1, 2, 3)\n",
    "pastila = NutritionInfo(1, 2, 3)\n",
    "tvorog_9 = NutritionInfo(18, 3, 9)\n",
    "apple = NutritionInfo(0, 25, 0)"
   ]
  },
  {
   "cell_type": "code",
   "execution_count": 3,
   "metadata": {},
   "outputs": [
    {
     "data": {
      "text/plain": [
       "315"
      ]
     },
     "execution_count": 3,
     "metadata": {},
     "output_type": "execute_result"
    }
   ],
   "source": [
    "breakfast = apple.energy() * 3\n",
    "breakfast"
   ]
  },
  {
   "cell_type": "code",
   "execution_count": 5,
   "metadata": {},
   "outputs": [
    {
     "data": {
      "text/plain": [
       "315"
      ]
     },
     "execution_count": 5,
     "metadata": {},
     "output_type": "execute_result"
    }
   ],
   "source": [
    "breakfast = apple * 3\n",
    "breakfast.energy()"
   ]
  }
 ],
 "metadata": {
  "kernelspec": {
   "display_name": "Python 3",
   "language": "python",
   "name": "python3"
  },
  "language_info": {
   "codemirror_mode": {
    "name": "ipython",
    "version": 3
   },
   "file_extension": ".py",
   "mimetype": "text/x-python",
   "name": "python",
   "nbconvert_exporter": "python",
   "pygments_lexer": "ipython3",
   "version": "3.11.2"
  }
 },
 "nbformat": 4,
 "nbformat_minor": 5
}
