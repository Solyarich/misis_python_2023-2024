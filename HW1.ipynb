{
 "cells": [
  {
   "cell_type": "markdown",
   "metadata": {},
   "source": [
    "# ДЗ1"
   ]
  },
  {
   "cell_type": "markdown",
   "metadata": {},
   "source": [
    "##### 1) Сделайте так, чтобы число секунд отображалось в виде дни:часы:минуты:секунды."
   ]
  },
  {
   "cell_type": "code",
   "execution_count": 7,
   "metadata": {},
   "outputs": [
    {
     "name": "stdout",
     "output_type": "stream",
     "text": [
      "0:2:46:40\n"
     ]
    }
   ],
   "source": [
    "seconds = 10000\n",
    "# 1 секунда = 1/60 минуты = 1/3600 часа = 1/86400 дня\n",
    "days, seconds = seconds // 86400, seconds % 86400\n",
    "hours, seconds = seconds // 3600, seconds % 3600\n",
    "minutes, seconds = seconds // 60, seconds % 60\n",
    "print(f'{days}:{hours}:{minutes}:{seconds}')"
   ]
  },
  {
   "cell_type": "markdown",
   "metadata": {},
   "source": [
    "##### 2) Напишите калькулятор, который запрашивает на входе 2 переменные и знак, и в соответствии со знаком (+, -, *, /) выводит результат."
   ]
  },
  {
   "cell_type": "code",
   "execution_count": 6,
   "metadata": {},
   "outputs": [
    {
     "name": "stdout",
     "output_type": "stream",
     "text": [
      "Enter first number:\n",
      "Enter second number:\n",
      "Enter operation:\n",
      "This operation does not exist.\n"
     ]
    }
   ],
   "source": [
    "print('Enter first number:')\n",
    "number1 = float(input())\n",
    "print('Enter second number:')\n",
    "number2 = float(input())\n",
    "print('Enter operation:')\n",
    "operation = input()\n",
    "if (len(operation) == 1):\n",
    "    match operation.split():\n",
    "        case [\"+\"]:\n",
    "            print(number1 + number2)\n",
    "        case [\"-\"]:\n",
    "            print(number1 - number2)\n",
    "        case [\"*\"]:\n",
    "            print(number1 * number2)\n",
    "        case [\"/\"]:\n",
    "            if (number2 == 0):\n",
    "                print(\"Error! Division by 0.\")\n",
    "            else:\n",
    "                print(number1 / number2)\n",
    "        case _:\n",
    "            print(\"This operation does not exist.\")\n",
    "else:\n",
    "    print(\"This operation does not exist.\")"
   ]
  }
 ],
 "metadata": {
  "kernelspec": {
   "display_name": "Python 3",
   "language": "python",
   "name": "python3"
  },
  "language_info": {
   "codemirror_mode": {
    "name": "ipython",
    "version": 3
   },
   "file_extension": ".py",
   "mimetype": "text/x-python",
   "name": "python",
   "nbconvert_exporter": "python",
   "pygments_lexer": "ipython3",
   "version": "3.11.2"
  }
 },
 "nbformat": 4,
 "nbformat_minor": 5
}
