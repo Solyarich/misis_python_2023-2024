{
 "cells": [
  {
   "cell_type": "markdown",
   "metadata": {},
   "source": [
    "# ДЗ"
   ]
  },
  {
   "cell_type": "markdown",
   "metadata": {},
   "source": [
    "###### Задача 1 Связанные списки"
   ]
  },
  {
   "cell_type": "markdown",
   "metadata": {},
   "source": [
    "Напишите функцию (пусть она будет называться reverse_linked_list), которая разворачивает связный список. На вход она принимает головную ноду, а на выход отдаёт хвостовую ноду исходного списка, но только теперь если попробовать пройтись по ней, она будет новой головной.\n"
   ]
  },
  {
   "cell_type": "code",
   "execution_count": 25,
   "metadata": {},
   "outputs": [],
   "source": [
    "class Node(object):\n",
    "    def __init__(self, value=None, next_node=None):\n",
    "        self.value = value\n",
    "        self.next = next_node\n",
    "\n",
    "    def __str__(self):\n",
    "        return f\"[Node with value {self.value}]\"\n",
    "\n",
    "\n",
    "def print_linked_list(head):\n",
    "    cur = head\n",
    "    while cur is not None:\n",
    "        print(cur)\n",
    "        cur = cur.next\n",
    "\n",
    "def reverse_linked_list(head):\n",
    "    cur = head\n",
    "    prev = None\n",
    "    while cur is not None:\n",
    "        next = cur.next\n",
    "        cur.next = prev\n",
    "        prev = cur\n",
    "        cur = next\n",
    "    return prev"
   ]
  },
  {
   "cell_type": "code",
   "execution_count": 26,
   "metadata": {},
   "outputs": [],
   "source": [
    "h, a, b, c, d = Node(1), Node(2), Node(3), Node(\"Внезапно\"), Node(5)\n",
    "\n",
    "h.next = a\n",
    "a.next = b\n",
    "b.next = c\n",
    "c.next = d"
   ]
  },
  {
   "cell_type": "code",
   "execution_count": 29,
   "metadata": {},
   "outputs": [
    {
     "name": "stdout",
     "output_type": "stream",
     "text": [
      "[Node with value 1]\n",
      "[Node with value 2]\n",
      "[Node with value 3]\n",
      "[Node with value Внезапно]\n",
      "[Node with value 5]\n",
      "---\n",
      "[Node with value 5]\n",
      "[Node with value Внезапно]\n",
      "[Node with value 3]\n",
      "[Node with value 2]\n",
      "[Node with value 1]\n"
     ]
    }
   ],
   "source": [
    "print_linked_list(h)\n",
    "h = reverse_linked_list(h)\n",
    "print(\"---\")\n",
    "print_linked_list(h)"
   ]
  },
  {
   "cell_type": "markdown",
   "metadata": {},
   "source": [
    "###### Задача 2 Пузырьки"
   ]
  },
  {
   "cell_type": "markdown",
   "metadata": {},
   "source": [
    "Вам предлагается написать функцию, которая будет на вход получать голову несортированного связного списка, а на выход возвращать голову отсортированного.\n",
    "\n"
   ]
  },
  {
   "cell_type": "markdown",
   "metadata": {},
   "source": [
    "1) Вариант с изменением просто значений"
   ]
  },
  {
   "cell_type": "code",
   "execution_count": 106,
   "metadata": {},
   "outputs": [],
   "source": [
    "def sort_linked_list(head):\n",
    "    cur = head\n",
    "    count = 0\n",
    "    while cur is not None:\n",
    "            next = cur.next\n",
    "            if (next is not None and cur.value > next.value):\n",
    "                cur.value, next.value = next.value, cur.value\n",
    "                count += 1\n",
    "            cur = cur.next\n",
    "    if count == 0:\n",
    "        return head\n",
    "    else:\n",
    "        return sort_linked_list(head)\n",
    "        "
   ]
  },
  {
   "cell_type": "code",
   "execution_count": 107,
   "metadata": {},
   "outputs": [],
   "source": [
    "h, a, b, c, d, e, f, g, i, j = Node(1), Node(8), Node(5), Node(4), Node(3), Node(20), Node(80), Node(1), Node(33), Node(-2)\n",
    "\n",
    "h.next = a\n",
    "a.next = b\n",
    "b.next = c\n",
    "c.next = d\n",
    "d.next = e\n",
    "e.next = f\n",
    "f.next = g\n",
    "g.next = i\n",
    "i.next = j"
   ]
  },
  {
   "cell_type": "code",
   "execution_count": 108,
   "metadata": {},
   "outputs": [
    {
     "name": "stdout",
     "output_type": "stream",
     "text": [
      "[Node with value 1]\n",
      "[Node with value 8]\n",
      "[Node with value 5]\n",
      "[Node with value 4]\n",
      "[Node with value 3]\n",
      "[Node with value 20]\n",
      "[Node with value 80]\n",
      "[Node with value 1]\n",
      "[Node with value 33]\n",
      "[Node with value -2]\n",
      "---\n",
      "[Node with value -2]\n",
      "[Node with value 1]\n",
      "[Node with value 1]\n",
      "[Node with value 3]\n",
      "[Node with value 4]\n",
      "[Node with value 5]\n",
      "[Node with value 8]\n",
      "[Node with value 20]\n",
      "[Node with value 33]\n",
      "[Node with value 80]\n"
     ]
    }
   ],
   "source": [
    "print_linked_list(h)\n",
    "h = sort_linked_list(h)\n",
    "print(\"---\")\n",
    "print_linked_list(h)"
   ]
  },
  {
   "cell_type": "markdown",
   "metadata": {},
   "source": [
    "2) Вариант с изменением нодов"
   ]
  },
  {
   "cell_type": "code",
   "execution_count": 146,
   "metadata": {},
   "outputs": [],
   "source": [
    "def sort_nodes_linked_list(head):\n",
    "    cur = head\n",
    "    count = 0\n",
    "    fix = 0\n",
    "    prev = None\n",
    "    while cur is not None:\n",
    "        next = cur.next\n",
    "        if (next is not None and cur.value > next.value):\n",
    "            fix = change_nodes(prev, cur, next)\n",
    "            if fix == 1:\n",
    "              head = next  \n",
    "            count += 1\n",
    "        prev = cur\n",
    "        cur = cur.next\n",
    "    if count == 0:\n",
    "        return head\n",
    "    else:\n",
    "        return sort_nodes_linked_list(head)\n",
    "    \n",
    "def change_nodes(prev, node_1, node_2):\n",
    "    if prev is not None:\n",
    "        next = node_2.next\n",
    "        prev.next = node_2\n",
    "        node_1.next = next\n",
    "        node_2.next = node_1\n",
    "        return 0\n",
    "    else:\n",
    "        next = node_2.next\n",
    "        node_2.next = node_1\n",
    "        node_1.next = next\n",
    "        return 1"
   ]
  },
  {
   "cell_type": "code",
   "execution_count": 147,
   "metadata": {},
   "outputs": [],
   "source": [
    "h, a, b, c, d, e, f, g, i, j = Node(1), Node(8), Node(5), Node(4), Node(-30), Node(20), Node(80), Node(1), Node(33), Node(-2)\n",
    "\n",
    "h.next = a\n",
    "a.next = b\n",
    "b.next = c\n",
    "c.next = d\n",
    "d.next = e\n",
    "e.next = f\n",
    "f.next = g\n",
    "g.next = i\n",
    "i.next = j"
   ]
  },
  {
   "cell_type": "code",
   "execution_count": 148,
   "metadata": {},
   "outputs": [
    {
     "name": "stdout",
     "output_type": "stream",
     "text": [
      "[Node with value 1]\n",
      "[Node with value 8]\n",
      "[Node with value 5]\n",
      "[Node with value 4]\n",
      "[Node with value -30]\n",
      "[Node with value 20]\n",
      "[Node with value 80]\n",
      "[Node with value 1]\n",
      "[Node with value 33]\n",
      "[Node with value -2]\n",
      "---\n",
      "[Node with value -30]\n",
      "[Node with value -2]\n",
      "[Node with value 1]\n",
      "[Node with value 1]\n",
      "[Node with value 4]\n",
      "[Node with value 5]\n",
      "[Node with value 8]\n",
      "[Node with value 20]\n",
      "[Node with value 33]\n",
      "[Node with value 80]\n"
     ]
    }
   ],
   "source": [
    "print_linked_list(h)\n",
    "new_h = sort_nodes_linked_list(h)\n",
    "print(\"---\")\n",
    "print_linked_list(new_h)"
   ]
  },
  {
   "cell_type": "markdown",
   "metadata": {},
   "source": [
    "###### Задача 3 Pandas"
   ]
  },
  {
   "cell_type": "markdown",
   "metadata": {},
   "source": [
    "1) Выясните, сколько в среднем выходит полный счёт по пятницам на ланч у курящих мужчин (датасет tips)\n"
   ]
  },
  {
   "cell_type": "code",
   "execution_count": 160,
   "metadata": {},
   "outputs": [
    {
     "name": "stdout",
     "output_type": "stream",
     "text": [
      "11.386666666666668\n"
     ]
    }
   ],
   "source": [
    "import pandas as pd\n",
    "path = \"data/tips.csv\"\n",
    "\n",
    "df = pd.read_csv(path)\n",
    "\n",
    "masque = df[\"day\"] == \"Fri\"\n",
    "masque = masque & (df[\"time\"] == \"Lunch\")\n",
    "masque = masque & (df[\"smoker\"] == \"Yes\")\n",
    "masque = masque & (df[\"sex\"] == \"Male\")\n",
    "df[masque].head()\n",
    "print(df[masque][\"total_bill\"].mean())"
   ]
  },
  {
   "cell_type": "markdown",
   "metadata": {},
   "source": [
    "2) Загрузите iris и посмотрите разбросы по всем числовым значениям для всех трёх классов цветов (датасет iris)\n"
   ]
  },
  {
   "cell_type": "code",
   "execution_count": 177,
   "metadata": {},
   "outputs": [
    {
     "name": "stdout",
     "output_type": "stream",
     "text": [
      "Class - Iris-setosa\n",
      "PetalLength - (1.0, 1.9)\n",
      "PetalWidth - (0.1, 0.6)\n",
      "SepalLength - (4.3, 5.8)\n",
      "SepalWidth - (2.3, 4.4)\n",
      "--------------\n",
      "Class - Iris-versicolor\n",
      "PetalLength - (3.0, 5.1)\n",
      "PetalWidth - (1.0, 1.8)\n",
      "SepalLength - (4.9, 7.0)\n",
      "SepalWidth - (2.0, 3.4)\n",
      "--------------\n",
      "Class - Iris-virginica\n",
      "PetalLength - (4.5, 6.9)\n",
      "PetalWidth - (1.4, 2.5)\n",
      "SepalLength - (4.9, 7.9)\n",
      "SepalWidth - (2.2, 3.8)\n",
      "--------------\n"
     ]
    }
   ],
   "source": [
    "path = \"data/iris (1).csv\"\n",
    "\n",
    "df = pd.read_csv(path)\n",
    "\n",
    "names = df[\"Name\"].unique()\n",
    "\n",
    "for val in names:\n",
    "    print(f\"Class - {val}\")\n",
    "    masque = df['Name'] == val\n",
    "    print(f\"PetalLength - ({df[masque]['PetalLength'].min()}, {df[masque]['PetalLength'].max()})\")\n",
    "    print(f\"PetalWidth - ({df[masque]['PetalWidth'].min()}, {df[masque]['PetalWidth'].max()})\")\n",
    "    print(f\"SepalLength - ({df[masque]['SepalLength'].min()}, {df[masque]['SepalLength'].max()})\")\n",
    "    print(f\"SepalWidth - ({df[masque]['SepalWidth'].min()}, {df[masque]['SepalWidth'].max()})\")\n",
    "    print(\"--------------\")\n",
    "    \n",
    "    "
   ]
  },
  {
   "cell_type": "markdown",
   "metadata": {},
   "source": [
    "3) Создайте новый столбец с плотностью населения. Переименуйте названия первого и третьего столбца на русский язык"
   ]
  },
  {
   "cell_type": "code",
   "execution_count": 182,
   "metadata": {},
   "outputs": [],
   "source": [
    "df = pd.DataFrame({\n",
    "     'country': ['Kazakhstan', 'Russia', 'Belarus', 'Ukraine'],\n",
    "     'population': [17.04, 143.5, 9.5, 45.5],\n",
    "     'square': [2724902, 17125191, 207600, 603628]\n",
    " })"
   ]
  },
  {
   "cell_type": "code",
   "execution_count": 183,
   "metadata": {},
   "outputs": [
    {
     "data": {
      "text/html": [
       "<div>\n",
       "<style scoped>\n",
       "    .dataframe tbody tr th:only-of-type {\n",
       "        vertical-align: middle;\n",
       "    }\n",
       "\n",
       "    .dataframe tbody tr th {\n",
       "        vertical-align: top;\n",
       "    }\n",
       "\n",
       "    .dataframe thead th {\n",
       "        text-align: right;\n",
       "    }\n",
       "</style>\n",
       "<table border=\"1\" class=\"dataframe\">\n",
       "  <thead>\n",
       "    <tr style=\"text-align: right;\">\n",
       "      <th></th>\n",
       "      <th>country</th>\n",
       "      <th>population</th>\n",
       "      <th>square</th>\n",
       "      <th>destiny</th>\n",
       "    </tr>\n",
       "  </thead>\n",
       "  <tbody>\n",
       "    <tr>\n",
       "      <th>0</th>\n",
       "      <td>Kazakhstan</td>\n",
       "      <td>17.04</td>\n",
       "      <td>2724902</td>\n",
       "      <td>6.253436</td>\n",
       "    </tr>\n",
       "    <tr>\n",
       "      <th>1</th>\n",
       "      <td>Russia</td>\n",
       "      <td>143.50</td>\n",
       "      <td>17125191</td>\n",
       "      <td>8.379469</td>\n",
       "    </tr>\n",
       "    <tr>\n",
       "      <th>2</th>\n",
       "      <td>Belarus</td>\n",
       "      <td>9.50</td>\n",
       "      <td>207600</td>\n",
       "      <td>45.761079</td>\n",
       "    </tr>\n",
       "    <tr>\n",
       "      <th>3</th>\n",
       "      <td>Ukraine</td>\n",
       "      <td>45.50</td>\n",
       "      <td>603628</td>\n",
       "      <td>75.377550</td>\n",
       "    </tr>\n",
       "  </tbody>\n",
       "</table>\n",
       "</div>"
      ],
      "text/plain": [
       "      country  population    square    destiny\n",
       "0  Kazakhstan       17.04   2724902   6.253436\n",
       "1      Russia      143.50  17125191   8.379469\n",
       "2     Belarus        9.50    207600  45.761079\n",
       "3     Ukraine       45.50    603628  75.377550"
      ]
     },
     "execution_count": 183,
     "metadata": {},
     "output_type": "execute_result"
    }
   ],
   "source": [
    "df = df.assign(destiny = df['population'] * 1000000 / df['square'])\n",
    "df"
   ]
  },
  {
   "cell_type": "code",
   "execution_count": 184,
   "metadata": {},
   "outputs": [
    {
     "data": {
      "text/html": [
       "<div>\n",
       "<style scoped>\n",
       "    .dataframe tbody tr th:only-of-type {\n",
       "        vertical-align: middle;\n",
       "    }\n",
       "\n",
       "    .dataframe tbody tr th {\n",
       "        vertical-align: top;\n",
       "    }\n",
       "\n",
       "    .dataframe thead th {\n",
       "        text-align: right;\n",
       "    }\n",
       "</style>\n",
       "<table border=\"1\" class=\"dataframe\">\n",
       "  <thead>\n",
       "    <tr style=\"text-align: right;\">\n",
       "      <th></th>\n",
       "      <th>страна</th>\n",
       "      <th>population</th>\n",
       "      <th>площадь</th>\n",
       "      <th>destiny</th>\n",
       "    </tr>\n",
       "  </thead>\n",
       "  <tbody>\n",
       "    <tr>\n",
       "      <th>0</th>\n",
       "      <td>Kazakhstan</td>\n",
       "      <td>17.04</td>\n",
       "      <td>2724902</td>\n",
       "      <td>6.253436</td>\n",
       "    </tr>\n",
       "    <tr>\n",
       "      <th>1</th>\n",
       "      <td>Russia</td>\n",
       "      <td>143.50</td>\n",
       "      <td>17125191</td>\n",
       "      <td>8.379469</td>\n",
       "    </tr>\n",
       "    <tr>\n",
       "      <th>2</th>\n",
       "      <td>Belarus</td>\n",
       "      <td>9.50</td>\n",
       "      <td>207600</td>\n",
       "      <td>45.761079</td>\n",
       "    </tr>\n",
       "    <tr>\n",
       "      <th>3</th>\n",
       "      <td>Ukraine</td>\n",
       "      <td>45.50</td>\n",
       "      <td>603628</td>\n",
       "      <td>75.377550</td>\n",
       "    </tr>\n",
       "  </tbody>\n",
       "</table>\n",
       "</div>"
      ],
      "text/plain": [
       "       страна  population   площадь    destiny\n",
       "0  Kazakhstan       17.04   2724902   6.253436\n",
       "1      Russia      143.50  17125191   8.379469\n",
       "2     Belarus        9.50    207600  45.761079\n",
       "3     Ukraine       45.50    603628  75.377550"
      ]
     },
     "execution_count": 184,
     "metadata": {},
     "output_type": "execute_result"
    }
   ],
   "source": [
    "df.rename(columns={'country': 'страна', 'square': 'площадь'})"
   ]
  }
 ],
 "metadata": {
  "kernelspec": {
   "display_name": "Python 3",
   "language": "python",
   "name": "python3"
  },
  "language_info": {
   "codemirror_mode": {
    "name": "ipython",
    "version": 3
   },
   "file_extension": ".py",
   "mimetype": "text/x-python",
   "name": "python",
   "nbconvert_exporter": "python",
   "pygments_lexer": "ipython3",
   "version": "3.12.1"
  }
 },
 "nbformat": 4,
 "nbformat_minor": 2
}
