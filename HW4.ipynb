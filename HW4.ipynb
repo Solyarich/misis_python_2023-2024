{
 "cells": [
  {
   "cell_type": "markdown",
   "metadata": {},
   "source": [
    "# ДЗ4"
   ]
  },
  {
   "cell_type": "markdown",
   "metadata": {},
   "source": [
    "##### 1) Средний балл и список отстающих учеников"
   ]
  },
  {
   "cell_type": "code",
   "execution_count": 8,
   "metadata": {},
   "outputs": [
    {
     "name": "stdout",
     "output_type": "stream",
     "text": [
      "Average score:  3.1818181818181817\n",
      "Students with low score:\n",
      "['Дмитриев', 'Н.']\n",
      "['Котов', 'Д.']\n",
      "['Бирюкова', 'Н.']\n",
      "['Лемонов', 'Ю.']\n"
     ]
    }
   ],
   "source": [
    "import statistics\n",
    "scores = []\n",
    "students = []\n",
    "with open('HW_4_text_1.txt', 'r', encoding='utf-8') as f:\n",
    "    for line in f:\n",
    "        words = line.split()\n",
    "        scores.append(int(words[2]))\n",
    "        if int(words[2]) < 3:\n",
    "            students.append([words[0], words[1]])\n",
    "print('Average score: ', statistics.mean(scores))\n",
    "print('Students with low score:')\n",
    "for student in students:\n",
    "    print(student)"
   ]
  },
  {
   "cell_type": "markdown",
   "metadata": {},
   "source": [
    "##### 2) Посчитать количество определенных слов в файле"
   ]
  },
  {
   "cell_type": "code",
   "execution_count": 19,
   "metadata": {},
   "outputs": [
    {
     "name": "stdout",
     "output_type": "stream",
     "text": [
      "Лекций: 2\n",
      "Практических: 3\n",
      "Лабораторных: 2\n"
     ]
    }
   ],
   "source": [
    "lec = 0\n",
    "pract = 0\n",
    "lab = 0\n",
    "\n",
    "with open('HW_4_text_2.txt', 'r', encoding='utf-8') as f:\n",
    "    for line in f:\n",
    "        if line.find('лекц') > 0:\n",
    "            lec += 1\n",
    "        if line.find('практ') > 0:\n",
    "            pract += 1\n",
    "        if line.find('лаб') > 0:\n",
    "            lab += 1\n",
    "\n",
    "print('Лекций:', lec)\n",
    "print('Практических:', pract)\n",
    "print('Лабораторных:', lab)"
   ]
  },
  {
   "cell_type": "markdown",
   "metadata": {},
   "source": [
    "##### 3) Откройте Telegram, найдите @BotFather и начните беседу. Отправьте команду /newbot и следуйте инструкциям."
   ]
  },
  {
   "cell_type": "markdown",
   "metadata": {},
   "source": [
    "Сделано."
   ]
  },
  {
   "cell_type": "markdown",
   "metadata": {},
   "source": [
    "##### 4) Выведите список файлов в указанной директории. например где у вас лежат ваши тетради"
   ]
  },
  {
   "cell_type": "code",
   "execution_count": 20,
   "metadata": {},
   "outputs": [
    {
     "name": "stdout",
     "output_type": "stream",
     "text": [
      "['HW1.ipynb', 'HW2.ipynb', 'HW3.ipynb', 'HW4.ipynb', 'HW_4_text_1.txt', 'HW_4_text_2.txt']\n"
     ]
    }
   ],
   "source": [
    "import os\n",
    "\n",
    "files = os.listdir('.')\n",
    "print(files)"
   ]
  },
  {
   "cell_type": "markdown",
   "metadata": {},
   "source": [
    "##### 5) Напишите программу, которая принимает текст и выводит два слова: наиболее часто встречающееся и самое длинное."
   ]
  },
  {
   "cell_type": "code",
   "execution_count": 27,
   "metadata": {},
   "outputs": [
    {
     "name": "stdout",
     "output_type": "stream",
     "text": [
      "Max length:  храброславленный\n",
      "Most encountered:  И\n"
     ]
    }
   ],
   "source": [
    "max_len = 0\n",
    "max_word = ''\n",
    "most_word = ''\n",
    "words_dict = {}\n",
    "\n",
    "with open('HW_4_text_3.txt', 'r', encoding='utf-8') as f:\n",
    "    for line in f:\n",
    "\n",
    "        line = line.replace('.', '')\n",
    "        line = line.replace(',', '')\n",
    "        line = line.replace('!', '')\n",
    "        line = line.replace('?', '')\n",
    "        line = line.replace('...', '')\n",
    "        line = line.replace(' - ', ' ')\n",
    "\n",
    "        words = line.split()\n",
    "        for word in words:\n",
    "            if word in words_dict:\n",
    "                val = words_dict.get(word) + 1\n",
    "                words_dict.update({word:val})\n",
    "            else:\n",
    "                new_word = {word:1}\n",
    "                words_dict.update(new_word)\n",
    "            if len(word) > max_len:\n",
    "                max_len = len(word)\n",
    "                max_word = word\n",
    "\n",
    "count = 0\n",
    "for key, val in words_dict.items():\n",
    "    if val > count:\n",
    "        count = val\n",
    "        most_word = key\n",
    "print('Max length: ', max_word)\n",
    "print('Most encountered: ', most_word)\n"
   ]
  }
 ],
 "metadata": {
  "kernelspec": {
   "display_name": "Python 3",
   "language": "python",
   "name": "python3"
  },
  "language_info": {
   "codemirror_mode": {
    "name": "ipython",
    "version": 3
   },
   "file_extension": ".py",
   "mimetype": "text/x-python",
   "name": "python",
   "nbconvert_exporter": "python",
   "pygments_lexer": "ipython3",
   "version": "3.11.2"
  }
 },
 "nbformat": 4,
 "nbformat_minor": 5
}
